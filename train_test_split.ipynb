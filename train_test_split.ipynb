{
  "nbformat": 4,
  "nbformat_minor": 0,
  "metadata": {
    "colab": {
      "provenance": []
    },
    "kernelspec": {
      "name": "python3",
      "display_name": "Python 3"
    },
    "language_info": {
      "name": "python"
    }
  },
  "cells": [
    {
      "cell_type": "code",
      "source": [
        "import boxsdk\n",
        "\n",
        "# Step 1: Authenticate with a developer token\n",
        "auth = OAuth2(\n",
        "    client_id='YOUR_CLIENT_ID',\n",
        "    client_secret='YOUR_CLIENT_SECRET',\n",
        "    access_token='YOUR_DEVELOPER_TOKEN'  # You can generate one from the Box Developer Console\n",
        ")\n",
        "client = Client(auth)"
      ],
      "metadata": {
        "id": "tz7fDe8GoCSg"
      },
      "execution_count": null,
      "outputs": []
    },
    {
      "cell_type": "code",
      "source": [
        "def download_file(client, file_id, file_name):\n",
        "    file = client.file(file_id).get()\n",
        "    print(f\"Downloading: {file.name}\")\n",
        "\n",
        "    with open(file_name, 'wb') as open_file:\n",
        "        client.file(file_id).download_to(open_file)\n",
        "\n",
        "    return file_name"
      ],
      "metadata": {
        "id": "q_WsSC5oop30"
      },
      "execution_count": null,
      "outputs": []
    },
    {
      "cell_type": "code",
      "source": [
        "download_file(client, \"POST_AX_T1_FS_data_id_FILE_ID\", POST_AX_T1_FS_data_id)\n",
        "download_file(client, \"POST_AX_T1_FS_data_seg_FILE_ID\", POST_AX_T1_FS_data_seg)\n",
        "download_file(client, \"POST_AX_T1_FS_data_fore_FILE_ID\", POST_AX_T1_FS_data_fore)\n",
        "download_file(client, \"POST_AX_T1_FS_data_img_FILE_ID\", POST_AX_T1_FS_data_img)\n",
        "\n",
        "POST_AX_T1_FS_data = {\"img\": POST_AX_T1_FS_data_id, \"seg\": POST_AX_T1_FS_data_seg, \"fore\": POST_AX_T1_FS_data_fore, \"id\": POST_AX_T1_FS_data_img}"
      ],
      "metadata": {
        "id": "-9l74iZworcL"
      },
      "execution_count": null,
      "outputs": []
    },
    {
      "cell_type": "code",
      "source": [
        "download_file(client, \"AX_T1_data_id_FILE_ID\", AX_T1_data_id)\n",
        "download_file(client, \"AX_T1_data_seg_FILE_ID\", AX_T1_data_seg)\n",
        "download_file(client, \"AX_T1_data_fore_FILE_ID\", AX_T1_data_fore)\n",
        "download_file(client, \"AX_T1_data_img_FILE_ID\", AX_T1_data_img)\n",
        "\n",
        "AX_T1_data = {\"img\": AX_T1_data_id, \"seg\": AX_T1_data_seg, \"fore\": AX_T1_data_fore, \"id\": AX_T1_data_img}"
      ],
      "metadata": {
        "id": "43jHVuNqpKgx"
      },
      "execution_count": null,
      "outputs": []
    },
    {
      "cell_type": "code",
      "source": [
        "import random\n",
        "post_ids = np.unique(POST_AX_T1_FS_data['id'])\n",
        "ax_ids = np.unique(AX_T1_data['id'])\n",
        "\n",
        "# Find common IDs using a for loop\n",
        "common_ids = []\n",
        "for id_ in post_ids:\n",
        "    if id_ in ax_ids:\n",
        "        common_ids.append(id_)\n",
        "random_strings = random.sample(common_ids, 14)"
      ],
      "metadata": {
        "id": "7ZW_q5QJmsed"
      },
      "execution_count": null,
      "outputs": []
    },
    {
      "cell_type": "code",
      "execution_count": null,
      "metadata": {
        "id": "G4uhL3LeJ4mq"
      },
      "outputs": [],
      "source": [
        "POST_AX_T1_FS_test_img = np.array([\n",
        "    POST_AX_T1_FS_data['img'][i]\n",
        "    for i in range(len(POST_AX_T1_FS_data['id']))\n",
        "    if POST_AX_T1_FS_data['id'][i] in random_strings\n",
        "])\n",
        "\n",
        "POST_AX_T1_FS_test_seg = np.array([\n",
        "    POST_AX_T1_FS_data['seg'][i]\n",
        "    for i in range(len(POST_AX_T1_FS_data['id']))\n",
        "    if POST_AX_T1_FS_data['id'][i] in random_strings\n",
        "])\n",
        "\n",
        "POST_AX_T1_FS_test_fore = np.array([\n",
        "    POST_AX_T1_FS_data['fore'][i]\n",
        "    for i in range(len(POST_AX_T1_FS_data['id']))\n",
        "    if POST_AX_T1_FS_data['id'][i] in random_strings\n",
        "])\n",
        "\n",
        "POST_AX_T1_FS_test_id = np.array([\n",
        "    POST_AX_T1_FS_data['id'][i]\n",
        "    for i in range(len(POST_AX_T1_FS_data['id']))\n",
        "    if POST_AX_T1_FS_data['id'][i] in random_strings\n",
        "])"
      ]
    },
    {
      "cell_type": "code",
      "source": [
        "np.save(\"POST_AX_T1_FS_test_img\", POST_AX_T1_FS_test_img)\n",
        "np.save(\"POST_AX_T1_FS_test_seg\", POST_AX_T1_FS_test_seg)\n",
        "np.save(\"POST_AX_T1_FS_test_fore\", POST_AX_T1_FS_test_fore)\n",
        "np.save(\"POST_AX_T1_FS_test_id\", POST_AX_T1_FS_test_id)"
      ],
      "metadata": {
        "id": "RMimoQ50J-tg"
      },
      "execution_count": null,
      "outputs": []
    },
    {
      "cell_type": "code",
      "source": [
        "folder = client.folder(folder_id='321579723961')\n",
        "\n",
        "folder.upload(\"POST_AX_T1_FS_test_img.npy\")\n",
        "folder.upload(\"POST_AX_T1_FS_test_seg.npy\")\n",
        "folder.upload(\"POST_AX_T1_FS_test_fore.npy\")\n",
        "folder.upload(\"POST_AX_T1_FS_test_id.npy\")"
      ],
      "metadata": {
        "id": "dOXUJyxlKAIu"
      },
      "execution_count": null,
      "outputs": []
    },
    {
      "cell_type": "code",
      "source": [
        "AX_T1_test_img = np.array([\n",
        "    AX_T1_data['img'][i]\n",
        "    for i in range(len(AX_T1_data['id']))\n",
        "    if AX_T1_data['id'][i] in random_strings\n",
        "])\n",
        "\n",
        "AX_T1_test_seg = np.array([\n",
        "    AX_T1_data['seg'][i]\n",
        "    for i in range(len(AX_T1_data['id']))\n",
        "    if AX_T1_data['id'][i] in random_strings\n",
        "])\n",
        "\n",
        "AX_T1_test_fore = np.array([\n",
        "    AX_T1_data['fore'][i]\n",
        "    for i in range(len(AX_T1_data['id']))\n",
        "    if AX_T1_data['id'][i] in random_strings\n",
        "])\n",
        "\n",
        "AX_T1_test_id = np.array([\n",
        "    AX_T1_data['id'][i]\n",
        "    for i in range(len(AX_T1_data['id']))\n",
        "    if AX_T1_data['id'][i] in random_strings\n",
        "])"
      ],
      "metadata": {
        "id": "o1A41M0FKBbz"
      },
      "execution_count": null,
      "outputs": []
    },
    {
      "cell_type": "code",
      "source": [
        "np.save(\"AX_T1_test_img\", AX_T1_test_img)\n",
        "np.save(\"AX_T1_test_seg\", AX_T1_test_seg)\n",
        "np.save(\"AX_T1_test_fore\", AX_T1_test_fore)\n",
        "np.save(\"AX_T1_test_id\", AX_T1_test_id)"
      ],
      "metadata": {
        "id": "I3dOyQToKCw9"
      },
      "execution_count": null,
      "outputs": []
    },
    {
      "cell_type": "code",
      "source": [
        "folder = client.folder(folder_id='321579723961')\n",
        "\n",
        "folder.upload(\"AX_T1_test_img.npy\")\n",
        "folder.upload(\"AX_T1_test_seg.npy\")\n",
        "folder.upload(\"AX_T1_test_fore.npy\")\n",
        "folder.upload(\"AX_T1_test_id.npy\")"
      ],
      "metadata": {
        "id": "RkVEKimGKC2c"
      },
      "execution_count": null,
      "outputs": []
    },
    {
      "cell_type": "code",
      "source": [
        "POST_AX_T1_FS_train_img = np.array([\n",
        "    POST_AX_T1_FS_data['img'][i]\n",
        "    for i in range(len(POST_AX_T1_FS_data['id']))\n",
        "    if POST_AX_T1_FS_data['id'][i] not in random_strings\n",
        "])\n",
        "\n",
        "POST_AX_T1_FS_train_seg = np.array([\n",
        "    POST_AX_T1_FS_data['seg'][i]\n",
        "    for i in range(len(POST_AX_T1_FS_data['id']))\n",
        "    if POST_AX_T1_FS_data['id'][i] not in random_strings\n",
        "])\n",
        "\n",
        "POST_AX_T1_FS_train_fore = np.array([\n",
        "    POST_AX_T1_FS_data['fore'][i]\n",
        "    for i in range(len(POST_AX_T1_FS_data['id']))\n",
        "    if POST_AX_T1_FS_data['id'][i] not in random_strings\n",
        "])\n",
        "\n",
        "POST_AX_T1_FS_train_id = np.array([\n",
        "    POST_AX_T1_FS_data['id'][i]\n",
        "    for i in range(len(POST_AX_T1_FS_data['id']))\n",
        "    if POST_AX_T1_FS_data['id'][i] not in random_strings\n",
        "])"
      ],
      "metadata": {
        "id": "VXAfDd_NKC46"
      },
      "execution_count": null,
      "outputs": []
    },
    {
      "cell_type": "code",
      "source": [
        "np.save(\"POST_AX_T1_FS_train_img\", POST_AX_T1_FS_train_img)\n",
        "np.save(\"POST_AX_T1_FS_train_seg\", POST_AX_T1_FS_train_seg)\n",
        "np.save(\"POST_AX_T1_FS_train_fore\", POST_AX_T1_FS_train_fore)\n",
        "np.save(\"POST_AX_T1_FS_train_id\", POST_AX_T1_FS_train_id)"
      ],
      "metadata": {
        "id": "J5YSm-lRKC7j"
      },
      "execution_count": null,
      "outputs": []
    },
    {
      "cell_type": "code",
      "source": [
        "folder = client.folder(folder_id='321579723961')\n",
        "\n",
        "folder.upload(\"POST_AX_T1_FS_train_img.npy\")\n",
        "folder.upload(\"POST_AX_T1_FS_train_seg.npy\")\n",
        "folder.upload(\"POST_AX_T1_FS_train_fore.npy\")\n",
        "folder.upload(\"POST_AX_T1_FS_train_id.npy\")"
      ],
      "metadata": {
        "id": "X3fCLdExKHzi"
      },
      "execution_count": null,
      "outputs": []
    },
    {
      "cell_type": "code",
      "source": [
        "AX_T1_train_img = np.array([\n",
        "    AX_T1_data['img'][i]\n",
        "    for i in range(len(AX_T1_data['id']))\n",
        "    if AX_T1_data['id'][i] not in random_strings\n",
        "])\n",
        "\n",
        "AX_T1_train_seg = np.array([\n",
        "    AX_T1_data['seg'][i]\n",
        "    for i in range(len(AX_T1_data['id']))\n",
        "    if AX_T1_data['id'][i] not in random_strings\n",
        "])\n",
        "\n",
        "AX_T1_train_fore = np.array([\n",
        "    AX_T1_data['fore'][i]\n",
        "    for i in range(len(AX_T1_data['id']))\n",
        "    if AX_T1_data['id'][i] not in random_strings\n",
        "])\n",
        "\n",
        "AX_T1_train_id = np.array([\n",
        "    AX_T1_data['id'][i]\n",
        "    for i in range(len(AX_T1_data['id']))\n",
        "    if AX_T1_data['id'][i] not in random_strings\n",
        "])"
      ],
      "metadata": {
        "id": "bH5e_wBOKH2F"
      },
      "execution_count": null,
      "outputs": []
    },
    {
      "cell_type": "code",
      "source": [
        "np.save(\"AX_T1_train_img\", AX_T1_train_img)\n",
        "np.save(\"AX_T1_train_seg\", AX_T1_train_seg)\n",
        "np.save(\"AX_T1_train_fore\", AX_T1_train_fore)\n",
        "np.save(\"AX_T1_train_id\", AX_T1_train_id)"
      ],
      "metadata": {
        "id": "5R-st3YxKH4W"
      },
      "execution_count": null,
      "outputs": []
    },
    {
      "cell_type": "code",
      "source": [
        "folder = client.folder(folder_id='321579723961')\n",
        "\n",
        "folder.upload(\"AX_T1_train_img.npy\")\n",
        "folder.upload(\"AX_T1_train_seg.npy\")\n",
        "folder.upload(\"AX_T1_train_fore.npy\")\n",
        "folder.upload(\"AX_T1_train_id.npy\")"
      ],
      "metadata": {
        "id": "ahZHVNWuKH67"
      },
      "execution_count": null,
      "outputs": []
    }
  ]
}